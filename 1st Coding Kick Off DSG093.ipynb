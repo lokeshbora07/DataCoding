{
 "cells": [
  {
   "cell_type": "code",
   "execution_count": 1,
   "id": "8be2f47f",
   "metadata": {},
   "outputs": [
    {
     "name": "stdout",
     "output_type": "stream",
     "text": [
      "Lokesh Singh Bora\n"
     ]
    }
   ],
   "source": [
    "print(\"Lokesh Singh Bora\")"
   ]
  },
  {
   "cell_type": "markdown",
   "id": "428fefd7",
   "metadata": {},
   "source": [
    "Hello World"
   ]
  },
  {
   "cell_type": "code",
   "execution_count": 3,
   "id": "ff1b9d06",
   "metadata": {},
   "outputs": [
    {
     "name": "stdout",
     "output_type": "stream",
     "text": [
      "Hello Data Science\n"
     ]
    }
   ],
   "source": [
    "print(\"Hello Data Science\")"
   ]
  },
  {
   "cell_type": "markdown",
   "id": "f3cc3296",
   "metadata": {},
   "source": [
    "to add cell above current one- esc+A"
   ]
  },
  {
   "cell_type": "markdown",
   "id": "2a98fa71",
   "metadata": {},
   "source": [
    "to add cell below current one- esc+B"
   ]
  },
  {
   "cell_type": "raw",
   "id": "8472a4b7",
   "metadata": {},
   "source": [
    "to remove or delete a cell- esc+D+D"
   ]
  },
  {
   "cell_type": "markdown",
   "id": "bc607f0d",
   "metadata": {},
   "source": [
    "to execute a cell- ctrl+enter"
   ]
  }
 ],
 "metadata": {
  "kernelspec": {
   "display_name": "Python 3 (ipykernel)",
   "language": "python",
   "name": "python3"
  },
  "language_info": {
   "codemirror_mode": {
    "name": "ipython",
    "version": 3
   },
   "file_extension": ".py",
   "mimetype": "text/x-python",
   "name": "python",
   "nbconvert_exporter": "python",
   "pygments_lexer": "ipython3",
   "version": "3.11.4"
  }
 },
 "nbformat": 4,
 "nbformat_minor": 5
}
